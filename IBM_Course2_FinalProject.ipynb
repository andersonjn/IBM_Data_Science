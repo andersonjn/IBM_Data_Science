{
  "metadata": {
    "language_info": {
      "codemirror_mode": {
        "name": "python",
        "version": 3
      },
      "file_extension": ".py",
      "mimetype": "text/x-python",
      "name": "python",
      "nbconvert_exporter": "python",
      "pygments_lexer": "ipython3",
      "version": "3.8"
    },
    "kernelspec": {
      "name": "python",
      "display_name": "Python (Pyodide)",
      "language": "python"
    }
  },
  "nbformat_minor": 4,
  "nbformat": 4,
  "cells": [
    {
      "cell_type": "markdown",
      "source": "# My Jupyter Notebook on IBM Watson Studio",
      "metadata": {}
    },
    {
      "cell_type": "markdown",
      "source": "**Jason Anderson**",
      "metadata": {}
    },
    {
      "cell_type": "markdown",
      "source": "_I am interested in data science to increase the effacacy of my research within my Ph.D. program. I also plan to use this experience to gain a job in either academia or industry._",
      "metadata": {}
    },
    {
      "cell_type": "markdown",
      "source": "### The code below sums 1 and 1 to equal 2",
      "metadata": {}
    },
    {
      "cell_type": "code",
      "source": "1 + 1",
      "metadata": {
        "trusted": true
      },
      "execution_count": 3,
      "outputs": [
        {
          "execution_count": 3,
          "output_type": "execute_result",
          "data": {
            "text/plain": "2"
          },
          "metadata": {}
        }
      ]
    },
    {
      "cell_type": "markdown",
      "source": "This is a display of seperate markdown elements:  \n* Bullet list\n* Bullet list\n* Bullet list\n\n[this is a link to Google](https://www.google.com/)\n    \n> Blockquote: I'm glad I'm done\n    ",
      "metadata": {}
    },
    {
      "cell_type": "code",
      "source": "",
      "metadata": {},
      "execution_count": null,
      "outputs": []
    }
  ]
}